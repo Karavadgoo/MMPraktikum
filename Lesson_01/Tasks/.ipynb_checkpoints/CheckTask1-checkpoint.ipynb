{
 "cells": [
  {
   "cell_type": "markdown",
   "metadata": {},
   "source": [
    "# 1 задание."
   ]
  },
  {
   "cell_type": "raw",
   "metadata": {},
   "source": [
    "Мини-ответ - красавчик, так держать."
   ]
  },
  {
   "cell_type": "markdown",
   "metadata": {},
   "source": [
    "### Мои хотелки"
   ]
  },
  {
   "cell_type": "code",
   "execution_count": null,
   "metadata": {},
   "outputs": [],
   "source": [
    "Хочу, чтобы ты пользовался норм гитом, создав у себя репозитроий и делая коммиты, а не просто загрузив туда файлики."
   ]
  },
  {
   "cell_type": "code",
   "execution_count": null,
   "metadata": {},
   "outputs": [],
   "source": [
    "Саша Б.: \"Я так и знал, что этим все закончится, и очень этого боялся\". Мне надо будет установить ssh-канал\n",
    "          с приватным и публичным ключами?"
   ]
  },
  {
   "cell_type": "raw",
   "metadata": {},
   "source": [
    "Хочу, чтобы в идеале тесты ты делал при помощи юпитер-ноутбука - то-то вроде такого, что ниже. Соответственно здесь и комменты ставить проще."
   ]
  },
  {
   "cell_type": "code",
   "execution_count": null,
   "metadata": {},
   "outputs": [],
   "source": [
    "Саша Б.: А я правильно комментирую сейчас?"
   ]
  },
  {
   "cell_type": "markdown",
   "metadata": {},
   "source": [
    "### Пример тестов и чутка комментов"
   ]
  },
  {
   "cell_type": "markdown",
   "metadata": {},
   "source": [
    "#### Таск1"
   ]
  },
  {
   "cell_type": "code",
   "execution_count": 4,
   "metadata": {
    "collapsed": true
   },
   "outputs": [],
   "source": [
    "from task1 import subreverse_sequence"
   ]
  },
  {
   "cell_type": "code",
   "execution_count": 5,
   "metadata": {},
   "outputs": [
    {
     "data": {
      "text/plain": [
       "[6, 4, 2, 0, 1, 3, 5, 7]"
      ]
     },
     "execution_count": 5,
     "metadata": {},
     "output_type": "execute_result"
    }
   ],
   "source": [
    "subreverse_sequence([0,1,2,3,4,5,6,7])"
   ]
  },
  {
   "cell_type": "code",
   "execution_count": null,
   "metadata": {
    "collapsed": true
   },
   "outputs": [],
   "source": [
    "#...tests"
   ]
  },
  {
   "cell_type": "markdown",
   "metadata": {},
   "source": [
    "#### Таск2"
   ]
  },
  {
   "cell_type": "code",
   "execution_count": null,
   "metadata": {
    "collapsed": true
   },
   "outputs": [],
   "source": [
    "from task2 import find_max_substring_occurrence"
   ]
  },
  {
   "cell_type": "code",
   "execution_count": 15,
   "metadata": {},
   "outputs": [
    {
     "data": {
      "text/plain": [
       "5"
      ]
     },
     "execution_count": 15,
     "metadata": {},
     "output_type": "execute_result"
    }
   ],
   "source": [
    "find_max_substring_occurrence('ttttt')"
   ]
  },
  {
   "cell_type": "markdown",
   "metadata": {},
   "source": [
    "#### Таск3"
   ]
  },
  {
   "cell_type": "code",
   "execution_count": 39,
   "metadata": {
    "collapsed": true
   },
   "outputs": [],
   "source": [
    "from task3 import find_word_in_circle"
   ]
  },
  {
   "cell_type": "raw",
   "metadata": {},
   "source": [
    "Зачем пустые принты вставляешь в код?\n",
    "Саша Б.: Так в командной строке, в которой я отслеживал результаты, было приятнее просматривать результаты...\n",
    "\n",
    "Второй кусок кода прекраснее безусловно, но мог бы его просто на две строчки разбить.\n",
    "Саша Б.: У меня с этим большие трудности. Не всегда понимаю, где именно уместнее разбить. Да и почему-то обычно получившийся            результат вызывает у меня эстетическое неприятие."
   ]
  },
  {
   "cell_type": "markdown",
   "metadata": {},
   "source": [
    "#### Таск4"
   ]
  },
  {
   "cell_type": "code",
   "execution_count": 83,
   "metadata": {
    "collapsed": true
   },
   "outputs": [],
   "source": [
    "from task4 import get_new_dictionary"
   ]
  },
  {
   "cell_type": "raw",
   "metadata": {},
   "source": [
    "dict зарезервированное слово языка - не тру его использовать. лучше тогда my_dict, cur_dict, ...\n",
    "Так же id.\n",
    "Саша Б.: С dict мой косяк - признаю. C id: для того чтобы уложиться в 79 символов на строку мне нужно было слово из двух букв.          Я просмотрел в интернете все англослова из двух букв, хотел было уже остановиться на jo, но не решился...\n",
    "\n",
    "Посортил - молодцом, но ежели не просили в задании, то это ест просто лишнее время\n",
    "Саша Б.: Ну, меня просили создать словарь. А ценность непосорченного словаря сильно ниже имхо. Это так, моё чувство прекрасного\n",
    "\n",
    "Ретурн не обязательно делать в функциях без возврата.\n",
    "Саша Б.: Т.е. это не рекомендуется или без разницы?"
   ]
  },
  {
   "cell_type": "markdown",
   "metadata": {},
   "source": [
    "### Выводы"
   ]
  },
  {
   "cell_type": "raw",
   "metadata": {},
   "source": [
    "Саша, ты молодец. Жду следующее задание.\n",
    "                                                   Добра, Саша."
   ]
  }
 ],
 "metadata": {
  "kernelspec": {
   "display_name": "Python 3",
   "language": "python",
   "name": "python3"
  },
  "language_info": {
   "codemirror_mode": {
    "name": "ipython",
    "version": 3
   },
   "file_extension": ".py",
   "mimetype": "text/x-python",
   "name": "python",
   "nbconvert_exporter": "python",
   "pygments_lexer": "ipython3",
   "version": "3.6.3"
  }
 },
 "nbformat": 4,
 "nbformat_minor": 2
}

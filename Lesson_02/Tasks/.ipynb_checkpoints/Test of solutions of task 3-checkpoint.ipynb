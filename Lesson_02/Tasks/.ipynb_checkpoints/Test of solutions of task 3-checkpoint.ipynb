{
 "cells": [
  {
   "cell_type": "code",
   "execution_count": 1,
   "metadata": {},
   "outputs": [],
   "source": [
    "import numpy as np"
   ]
  },
  {
   "cell_type": "code",
   "execution_count": 2,
   "metadata": {},
   "outputs": [
    {
     "name": "stdout",
     "output_type": "stream",
     "text": [
      "394 µs ± 4.66 µs per loop (mean ± std. dev. of 7 runs, 1000 loops each)\n"
     ]
    }
   ],
   "source": [
    "def f(Z):\n",
    "    isnan_column = np.isnan(Z)\n",
    "    if np.all(isnan_column):\n",
    "        Z = 0\n",
    "    else:\n",
    "        Z[isnan_column] = np.nanmean(Z)\n",
    "    return Z\n",
    "\n",
    "\n",
    "def replace_nan_to_means(X):\n",
    "    Y = X.copy()\n",
    "    return np.apply_along_axis(f, 0, Y)\n",
    "\n",
    "\n",
    "%timeit replace_nan_to_means(np.array([[1, 0, 1], [np.nan, 2, 5], [2, 0, np.nan], [3, 1, 3]]))\n"
   ]
  },
  {
   "cell_type": "code",
   "execution_count": 3,
   "metadata": {},
   "outputs": [
    {
     "name": "stdout",
     "output_type": "stream",
     "text": [
      "373 µs ± 6.46 µs per loop (mean ± std. dev. of 7 runs, 1000 loops each)\n"
     ]
    }
   ],
   "source": [
    "import warnings\n",
    "warnings.filterwarnings('error')\n",
    "\n",
    "\n",
    "def f(Z):\n",
    "    try:\n",
    "        Z[np.isnan(Z)] = np.nanmean(Z)\n",
    "    except Exception:\n",
    "        Z = 0\n",
    "    return Z\n",
    "\n",
    "\n",
    "def replace_nan_to_means(X):\n",
    "    Y = X.copy()\n",
    "    return np.apply_along_axis(f, 0, Y)\n",
    "\n",
    "\n",
    "%timeit replace_nan_to_means(np.array([[1, 0, 1], [np.nan, 2, 5], [2, 0, np.nan], [3, 1, 3]]))\n"
   ]
  },
  {
   "cell_type": "code",
   "execution_count": 4,
   "metadata": {},
   "outputs": [
    {
     "name": "stdout",
     "output_type": "stream",
     "text": [
      "122 µs ± 2.71 µs per loop (mean ± std. dev. of 7 runs, 10000 loops each)\n"
     ]
    }
   ],
   "source": [
    "def replace_nan_to_means(X):\n",
    "    Y = X.copy()\n",
    "    isnan_array = np.isnan(X)\n",
    "    nanmean_array = np.nanmean(X, axis=0)\n",
    "    nanmean_array[np.isnan(nanmean_array)] = 0\n",
    "    Y[isnan_array] = (nanmean_array + np.zeros(X.shape))[isnan_array]\n",
    "    return Y\n",
    "\n",
    "\n",
    "%timeit replace_nan_to_means(np.array([[1, 0, 1], [np.nan, 2, 5], [2, 0, np.nan], [3, 1, 3]]))\n"
   ]
  },
  {
   "cell_type": "code",
   "execution_count": null,
   "metadata": {},
   "outputs": [],
   "source": []
  }
 ],
 "metadata": {
  "kernelspec": {
   "display_name": "Python 3",
   "language": "python",
   "name": "python3"
  },
  "language_info": {
   "codemirror_mode": {
    "name": "ipython",
    "version": 3
   },
   "file_extension": ".py",
   "mimetype": "text/x-python",
   "name": "python",
   "nbconvert_exporter": "python",
   "pygments_lexer": "ipython3",
   "version": "3.6.3"
  }
 },
 "nbformat": 4,
 "nbformat_minor": 2
}

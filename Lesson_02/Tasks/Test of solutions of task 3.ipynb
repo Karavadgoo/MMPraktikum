{
 "cells": [
  {
   "cell_type": "code",
   "execution_count": 1,
   "metadata": {},
   "outputs": [],
   "source": [
    "import numpy as np"
   ]
  },
  {
   "cell_type": "code",
   "execution_count": null,
   "metadata": {},
   "outputs": [],
   "source": [
    "def replace_nan_to_means(X):\n",
    "    Y = X.copy()\n",
    "    for line in Y.T:\n",
    "        isnan_line = np.isnan(line)\n",
    "        if np.all(isnan_line):\n",
    "            line[isnan_line] = 0\n",
    "            # Почему-то не работает: \"line = 0\"\n",
    "        else:\n",
    "            line[isnan_line] = np.nanmean(line)\n",
    "    return Y\n",
    "\n",
    "\n",
    "%timeit replace_nan_to_means(np.array([[1, 0, 1], [np.nan, 2, 5], [2, 0, np.nan], [3, 1, 3]]))\n"
   ]
  },
  {
   "cell_type": "code",
   "execution_count": null,
   "metadata": {},
   "outputs": [],
   "source": [
    "def f(Z):\n",
    "    isnan_column = np.isnan(Z)\n",
    "    if np.all(isnan_column):\n",
    "        Z = 0\n",
    "    else:\n",
    "        Z[isnan_column] = np.nanmean(Z)\n",
    "    return Z\n",
    "\n",
    "\n",
    "def replace_nan_to_means(X):\n",
    "    Y = X.copy()\n",
    "    return np.apply_along_axis(f, 0, Y)\n",
    "\n",
    "\n",
    "%timeit replace_nan_to_means(np.array([[1, 0, 1], [np.nan, 2, 5], [2, 0, np.nan], [3, 1, 3]]))\n"
   ]
  },
  {
   "cell_type": "code",
   "execution_count": null,
   "metadata": {},
   "outputs": [],
   "source": [
    "import warnings\n",
    "warnings.filterwarnings('error')\n",
    "\n",
    "\n",
    "def f(Z):\n",
    "    try:\n",
    "        Z[np.isnan(Z)] = np.nanmean(Z)\n",
    "    except Exception:\n",
    "        Z = 0\n",
    "    return Z\n",
    "\n",
    "\n",
    "def replace_nan_to_means(X):\n",
    "    Y = X.copy()\n",
    "    return np.apply_along_axis(f, 0, Y)\n",
    "\n",
    "\n",
    "%timeit replace_nan_to_means(np.array([[1, 0, 1], [np.nan, 2, 5], [2, 0, np.nan], [3, 1, 3]]))\n"
   ]
  },
  {
   "cell_type": "code",
   "execution_count": null,
   "metadata": {},
   "outputs": [],
   "source": [
    "def replace_nan_to_means(X):\n",
    "    Y = X.copy()\n",
    "    isnan_array = np.isnan(X)\n",
    "    nanmean_array = np.nanmean(X, axis=0)\n",
    "    nanmean_array[np.isnan(nanmean_array)] = 0\n",
    "    Y[isnan_array] = (nanmean_array + np.zeros(X.shape))[isnan_array]\n",
    "    return Y\n",
    "\n",
    "\n",
    "%timeit replace_nan_to_means(np.array([[1, 0, 1], [np.nan, 2, 5], [2, 0, np.nan], [3, 1, 3]]))\n"
   ]
  },
  {
   "cell_type": "code",
   "execution_count": null,
   "metadata": {},
   "outputs": [],
   "source": []
  }
 ],
 "metadata": {
  "kernelspec": {
   "display_name": "Python 3",
   "language": "python",
   "name": "python3"
  },
  "language_info": {
   "codemirror_mode": {
    "name": "ipython",
    "version": 3
   },
   "file_extension": ".py",
   "mimetype": "text/x-python",
   "name": "python",
   "nbconvert_exporter": "python",
   "pygments_lexer": "ipython3",
   "version": "3.6.3"
  }
 },
 "nbformat": 4,
 "nbformat_minor": 2
}

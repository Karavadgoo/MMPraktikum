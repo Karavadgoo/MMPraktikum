{
 "cells": [
  {
   "cell_type": "code",
   "execution_count": 1,
   "metadata": {},
   "outputs": [],
   "source": [
    "import numpy as np"
   ]
  },
  {
   "cell_type": "code",
   "execution_count": 2,
   "metadata": {},
   "outputs": [],
   "source": [
    "import math"
   ]
  },
  {
   "cell_type": "code",
   "execution_count": 3,
   "metadata": {},
   "outputs": [
    {
     "name": "stdout",
     "output_type": "stream",
     "text": [
      "33.8 µs ± 491 ns per loop (mean ± std. dev. of 7 runs, 10000 loops each)\n"
     ]
    }
   ],
   "source": [
    "def replace_nan_to_means(X):\n",
    "    height, width = len(X), len(X[0])\n",
    "    T = [[0] * height for _ in range(width)]\n",
    "    for line in range(height):\n",
    "        for col in range(width):\n",
    "            T[col][line] = X[line][col]\n",
    "    for i in range(width):\n",
    "        nonnan_line = []\n",
    "        summ = 0\n",
    "        for j in range(height):\n",
    "            if not math.isnan(T[i][j]):\n",
    "                nonnan_line.append(T[i][j])\n",
    "                summ += T[i][j]\n",
    "        nonnans = len(nonnan_line)\n",
    "        aver = summ / nonnans\n",
    "        for j in range(height):\n",
    "            if not nonnans:\n",
    "                T[i] = [0] * height\n",
    "                break\n",
    "            elif math.isnan(T[i][j]):\n",
    "                T[i][j] = aver\n",
    "    Y = [[0] * width for _ in range(height)]\n",
    "    for line in range(width):\n",
    "        for col in range(height):\n",
    "            Y[col][line] = T[line][col]\n",
    "    return Y\n",
    "\n",
    "\n",
    "%timeit replace_nan_to_means([[1, 0, 1], [math.nan, 2, 5], [2, 0, math.nan], [3, 1, 3]])\n"
   ]
  },
  {
   "cell_type": "code",
   "execution_count": 4,
   "metadata": {},
   "outputs": [
    {
     "name": "stdout",
     "output_type": "stream",
     "text": [
      "275 µs ± 3.38 µs per loop (mean ± std. dev. of 7 runs, 1000 loops each)\n"
     ]
    }
   ],
   "source": [
    "def replace_nan_to_means(X):\n",
    "    Y = X.copy()\n",
    "    for line in Y.T:\n",
    "        isnan_line = np.isnan(line)\n",
    "        if np.all(isnan_line):\n",
    "            line[isnan_line] = 0\n",
    "            # Почему-то не работает: \"line = 0\"\n",
    "        else:\n",
    "            line[isnan_line] = np.nanmean(line)\n",
    "    return Y\n",
    "\n",
    "\n",
    "%timeit replace_nan_to_means(np.array([[1, 0, 1], [np.nan, 2, 5], [2, 0, np.nan], [3, 1, 3]]))\n"
   ]
  },
  {
   "cell_type": "code",
   "execution_count": 5,
   "metadata": {},
   "outputs": [
    {
     "name": "stdout",
     "output_type": "stream",
     "text": [
      "413 µs ± 34.4 µs per loop (mean ± std. dev. of 7 runs, 1000 loops each)\n"
     ]
    }
   ],
   "source": [
    "def f(Z):\n",
    "    isnan_column = np.isnan(Z)\n",
    "    if np.all(isnan_column):\n",
    "        Z = 0\n",
    "    else:\n",
    "        Z[isnan_column] = np.nanmean(Z)\n",
    "    return Z\n",
    "\n",
    "\n",
    "def replace_nan_to_means(X):\n",
    "    Y = X.copy()\n",
    "    return np.apply_along_axis(f, 0, Y)\n",
    "\n",
    "\n",
    "%timeit replace_nan_to_means(np.array([[1, 0, 1], [np.nan, 2, 5], [2, 0, np.nan], [3, 1, 3]]))\n"
   ]
  },
  {
   "cell_type": "code",
   "execution_count": 6,
   "metadata": {},
   "outputs": [
    {
     "name": "stdout",
     "output_type": "stream",
     "text": [
      "401 µs ± 25.3 µs per loop (mean ± std. dev. of 7 runs, 1000 loops each)\n"
     ]
    }
   ],
   "source": [
    "import warnings\n",
    "warnings.filterwarnings('error')\n",
    "\n",
    "\n",
    "def f(Z):\n",
    "    try:\n",
    "        Z[np.isnan(Z)] = np.nanmean(Z)\n",
    "    except Exception:\n",
    "        Z = 0\n",
    "    return Z\n",
    "\n",
    "\n",
    "def replace_nan_to_means(X):\n",
    "    Y = X.copy()\n",
    "    return np.apply_along_axis(f, 0, Y)\n",
    "\n",
    "\n",
    "%timeit replace_nan_to_means(np.array([[1, 0, 1], [np.nan, 2, 5], [2, 0, np.nan], [3, 1, 3]]))\n"
   ]
  },
  {
   "cell_type": "code",
   "execution_count": 7,
   "metadata": {},
   "outputs": [
    {
     "name": "stdout",
     "output_type": "stream",
     "text": [
      "125 µs ± 8.05 µs per loop (mean ± std. dev. of 7 runs, 10000 loops each)\n"
     ]
    }
   ],
   "source": [
    "def replace_nan_to_means(X):\n",
    "    Y = X.copy()\n",
    "    isnan_array = np.isnan(X)\n",
    "    nanmean_array = np.nanmean(X, axis=0)\n",
    "    nanmean_array[np.isnan(nanmean_array)] = 0\n",
    "    Y[isnan_array] = (nanmean_array + np.zeros(X.shape))[isnan_array]\n",
    "    return Y\n",
    "\n",
    "\n",
    "%timeit replace_nan_to_means(np.array([[1, 0, 1], [np.nan, 2, 5], [2, 0, np.nan], [3, 1, 3]]))\n"
   ]
  },
  {
   "cell_type": "code",
   "execution_count": null,
   "metadata": {},
   "outputs": [],
   "source": []
  },
  {
   "cell_type": "code",
   "execution_count": null,
   "metadata": {},
   "outputs": [],
   "source": []
  }
 ],
 "metadata": {
  "kernelspec": {
   "display_name": "Python 3",
   "language": "python",
   "name": "python3"
  },
  "language_info": {
   "codemirror_mode": {
    "name": "ipython",
    "version": 3
   },
   "file_extension": ".py",
   "mimetype": "text/x-python",
   "name": "python",
   "nbconvert_exporter": "python",
   "pygments_lexer": "ipython3",
   "version": "3.6.3"
  }
 },
 "nbformat": 4,
 "nbformat_minor": 2
}
